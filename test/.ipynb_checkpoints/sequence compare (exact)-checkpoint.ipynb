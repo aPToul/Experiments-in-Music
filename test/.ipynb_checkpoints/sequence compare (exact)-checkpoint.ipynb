{
 "cells": [
  {
   "cell_type": "code",
   "execution_count": 1,
   "metadata": {
    "collapsed": false
   },
   "outputs": [],
   "source": [
    "import re\n",
    "import glob\n",
    "\n",
    "# remove octaves (comma, capitalization), dashes, apostrophes, left round bracket\n",
    "def clean_abc(text):\n",
    "    text = text.lower().strip()\n",
    "    text = re.sub(\"[,\\-\\(']\", '', text)\n",
    "    text = text.replace(\"\\\\\", '')\n",
    "    text = re.sub('x:1', '', text)\n",
    "    text = re.sub('k:d', '', text)\n",
    "    text = re.sub('[ |]', '', text)\n",
    "    return text"
   ]
  },
  {
   "cell_type": "code",
   "execution_count": 2,
   "metadata": {
    "collapsed": false
   },
   "outputs": [],
   "source": [
    "text = \"\"\n",
    "for line in open('input.txt'):\n",
    "    text = text + \"\" + line.rstrip()\n",
    "text = clean_abc(text)\n",
    "melodies = text.split('%')[1:]"
   ]
  },
  {
   "cell_type": "code",
   "execution_count": 3,
   "metadata": {
    "collapsed": false
   },
   "outputs": [
    {
     "name": "stdout",
     "output_type": "stream",
     "text": [
      "1\n"
     ]
    }
   ],
   "source": [
    "abc_dict = {}\n",
    "for filename in glob.glob('*.abc'):\n",
    "    text = \"\"\n",
    "    for line in open(filename):\n",
    "        text = text + \"\" + line.rstrip()    \n",
    "    text = clean_abc(text)\n",
    "    abc_dict[filename] = text\n",
    "print len(abc_dict)"
   ]
  },
  {
   "cell_type": "code",
   "execution_count": 41,
   "metadata": {
    "collapsed": false
   },
   "outputs": [],
   "source": [
    "def isnote(string):\n",
    "    return string.isalpha()\n",
    "    \n",
    "def good_start(string):\n",
    "    return not(string.isdigit()) and not(string == '/')\n",
    "\n",
    "# Add all melodies of a given length into a given dictionary\n",
    "def hash_melodies(string, length):\n",
    "    if len(string) < length:\n",
    "        return    \n",
    "    \n",
    "    substrings = []\n",
    "\n",
    "    \n",
    "    cumulative = {}\n",
    "    start = {}\n",
    "    found = 0    \n",
    "    # For each character index\n",
    "    for index in xrange(0, len(string)):        \n",
    "        # Grab the character\n",
    "        character = string[index]\n",
    "        \n",
    "        # If it's a note\n",
    "        if isnote(character):\n",
    "            # Add a starting index, since notes can start\n",
    "            start[index] = found\n",
    "            \n",
    "            # Increment found and record where it was found\n",
    "            found = found + 1\n",
    "            cumulative[found] = index\n",
    "            \n",
    "        # Otherwise, check if its a valid start and add if so\n",
    "        elif good_start(character):\n",
    "            start[index] = found\n",
    "                \n",
    "    # For each start position, find how far you need to go (if possible) to find a cumulative gain of length\n",
    "    # Note that if a start is a note itself, it won't be counted due to ordering above\n",
    "    for start_position in start:\n",
    "        if start[start_position] + length in cumulative:\n",
    "            substrings.append(string[start_position:cumulative[start[start_position] + length]+1])\n",
    "            \n",
    "    return set(substrings)"
   ]
  },
  {
   "cell_type": "code",
   "execution_count": 42,
   "metadata": {
    "collapsed": false
   },
   "outputs": [
    {
     "name": "stdout",
     "output_type": "stream",
     "text": [
      "set(['m:6/8d2dd2dd3d2de2e', ':6/8d2dd2dd3d2de2ee', 'a2fd3d2f/2g/2abaf', 'agffdfg2fed', 'ee2dc2de2ad2ef', 'd3d2a/2g/2fadf2ed', 'fgabagffdf', 'fd3d2f/2g/2abafd', 'abbagfgaag', 'e3efga2fg2ef2g', 'df2ed2aadfe3e', 'd2dd3d2de2ee2dc', 'gfgaagfgfg', 'cd2dd2dd3d2de2e', 'ba2fd3d2f/2g/2aba', 'dfabagabfg', 'd2ef2ff3fede2b', 'adf2ed2aadfe', 'agfgfge2gfg', 'bagfededcd', 'ga3fddadfag', 'dfg2fedefdb', 'fede2ba2fd3d2f', 'gfgaagfgab', 'fga2fg2ef2ga3f', 'afdfabagab', 'fg2ef2ga3fdda', 'f2ff3fede2ba2f', 'd3d2de2ee2dc2de', 'badfagabba', 'fedefdba2aa', 'fgaagfgaba', 'ed2aadfe3efg', 'f/2g/2abafdfab', 'ededcd2dd2dd', 'g/2fadf2ed2aad', 'abagffdfg2f', 'd2a/2g/2fadf2ed2a', 'e2gfgaagfga', 'ddadfagfba', 'dfagabbagf', 'e2ba2fd3d2f/2g/2ab', 'fededcd2dd2d', 'abagabfgag', 'g/2abafdfaba', 'agabfgagec', 'g/2abadfagab', 'cd3d2a/2g/2fadf2e', 'ga2fg2ef2ga3fd', 'adfagfbagf', 'de2ee2dc2de2ad', 'gabagffdfg', 'f3fede2ba2fd3d', 'ff3fede2ba2fd', 'adfagabbag', 'fd3d2f/2g/2abadf', 'bagabfgage', 'agfededcd2d', 'gaagfgfge2g', 'd2de2ee2dc2de2a', 'f2ga3fddadfa', 'fge2gfgaagf', 'ecd3d2a/2g/2fadf', 'a/2g/2fadf2ed2aa', 'gabbagfgaa', 'fg2fedefdba', 'bagffdfg2fe', 'gaagfgabag', 'aagfgfge2gf', 'bfgagecd3d2a', 'ef2ga3fddadf', 'd2f/2g/2abafdfa', 'ede2ba2fd3d2f/2g', 'fdfg2fedefd', 'ge2gfgaagfg', 'fgagecd3d2a/2g', 'dadfagfbag', 'agecd3d2a/2g/2fa', 'de2ad2ef2ff3fe', 'agabbagfga', 'a2fg2ef2ga3fdd', 'gfgfge2gfga', 'abafdfabag', 'e2dc2de2ad2ef2f', 'gfge2gfgaag', 'd2dd2dd3d2de2ee', 'fdfabagabf', 'fbagfededc', 'e2ad2ef2ff3fed', 'f2ed2aadfe3ef', 'a2fd3d2f/2g/2abad', 'd3d2f/2g/2abadfa', 'fgaagfgfge', 'g2fedefdba2a', 'dedcd2dd2dd3d', 'efga2fg2ef2ga', 'ef2ff3fede2ba', 'edcd2dd2dd3d2d', 'gfededcd2dd', 'edefdba2aa2c', 'gffdfg2fede', 'gagecd3d2a/2g/2f', 'fgfge2gfgaa', 'fagfbagfed', 'a3fddadfagf', 'dc2de2ad2ef2ff', 'defdba2aa2cd', 'agfgaagfgf', 'bafdfabaga', 'gabfgagecd', 'ffdfg2fedef', 'adfe3efga2fg', 'agfgabagff', 'fe3efga2fg2ef', 'bbagfgaagf', 'f/2g/2abadfaga', 'fadf2ed2aadf', 'd2aadfe3efga', 'dfagfbagfe', 'd3d2f/2g/2abafdf', 'dd3d2de2ee2dc2d', 'c2de2ad2ef2ff3f', 'e2ee2dc2de2ad2e', 'g2ef2ga3fddad', 'ad2ef2ff3fede', 'fabagabfga', 'dfe3efga2fg2e', 'dcd2dd2dd3d2de', 'de2ba2fd3d2f/2g/2a', 'aadfe3efga2f', 'abfgagecd3d', 'aagfgabagf', 'gfgabagffd', 'd2f/2g/2abadfag', 'gfbagfeded', 'dd2dd3d2de2ee2d', 'fagabbagfg', 'abadfagabb', 'efdba2aa2cd3d', 'agfbagfede', 'gecd3d2a/2g/2fad', 'fddadfagfb', 'bagfgaagfg'])\n"
     ]
    }
   ],
   "source": [
    "song_substrings = []\n",
    "heuristic_length = 10\n",
    "for melody in melodies:\n",
    "    song_substrings.append(hash_melodies(melody, heuristic_length))\n",
    "    \n",
    "my_song_substrings = None\n",
    "for song in abc_dict:\n",
    "    my_song_substrings = hash_melodies(abc_dict[song], heuristic_length)\n",
    "print my_song_substrings"
   ]
  },
  {
   "cell_type": "code",
   "execution_count": 44,
   "metadata": {
    "collapsed": false
   },
   "outputs": [],
   "source": [
    "def plagerism_check(song, song_substrings):\n",
    "    compare = None\n",
    "    compare_list = []\n",
    "    for compare_song in song_substrings:\n",
    "        overlap = compare_song.intersection(song)\n",
    "        if compare == None:\n",
    "            compare = overlap\n",
    "        else:\n",
    "            compare = compare.union(overlap)\n",
    "        compare_list.append(overlap)\n",
    "    return compare, compare_list"
   ]
  },
  {
   "cell_type": "code",
   "execution_count": 45,
   "metadata": {
    "collapsed": false
   },
   "outputs": [],
   "source": [
    "similarity, similiarity_by_song = plagerism_check(my_song_substrings, song_substrings)"
   ]
  },
  {
   "cell_type": "code",
   "execution_count": 50,
   "metadata": {
    "collapsed": false
   },
   "outputs": [
    {
     "name": "stdout",
     "output_type": "stream",
     "text": [
      "9 15\n",
      "----------------\n",
      "f/2e/2d2adfed3a2b=cdccge=c3e2^cd2adfed3a2gfdfe=ced3d2f/2g/2abafdfa3=c3g=cgeceg3b3adafdfa3g3fdfeced3d2f/2g/2abafdfabafdfgage=cegage=ceabafdfabagabfgagecd3d2\n",
      "----------------\n",
      "19 17\n",
      "----------------\n",
      "adeffedbdbafddfab2aceee2adeffedbdbafddfab2aaddd2efgaagfgabbagfgaagfgfge2gfgaagfgabbagfgaefgfddd2\n",
      "----------------\n",
      "28 12\n",
      "----------------\n",
      "f/2e/2d2abdad3a2b=cdccge=c3e2cd2abdad3a2gfdfe=cededd2f/2g/2abafdfa3=c3g=cgeceg3b3adafdff3a2gfdfecededdfgabafdfabafdfgage=cegage=ceabafdfabagabfgagecd3d2\n",
      "----------------\n",
      "84 8\n",
      "----------------\n",
      "f/2g/2a2aa2fedefdba2aagfgfgefga2aa2fedefdba2aa2gfddd2d/2e/2fgaagfgabbagfgaagfgfgefga3f3edefdba2aa2gfddd2\n",
      "----------------\n",
      "96 4\n",
      "----------------\n",
      "adedf2ad2fecag2bf2ae2fgfededf2ad2fecabgfedcd3d2f/2g/2a2fd2fa2aagfg2ec2ea2ggfef2dg2ea2fbagfededcd3dfgagffedadfagfgfeedcacegfefedgfeagfbagfededcd3d2\n",
      "----------------\n"
     ]
    }
   ],
   "source": [
    "for index in range(0, len(similiarity_by_song)):\n",
    "    overlap = similiarity_by_song[index]\n",
    "    if len(overlap) > 1:\n",
    "#         for part in overlap:\n",
    "#             print part\n",
    "#         print '-----------'        \n",
    "        print index, len(overlap)\n",
    "        print '----------------'\n",
    "        print melodies[index]\n",
    "        print '----------------'"
   ]
  }
 ],
 "metadata": {
  "kernelspec": {
   "display_name": "Python 2",
   "language": "python",
   "name": "python2"
  },
  "language_info": {
   "codemirror_mode": {
    "name": "ipython",
    "version": 2
   },
   "file_extension": ".py",
   "mimetype": "text/x-python",
   "name": "python",
   "nbconvert_exporter": "python",
   "pygments_lexer": "ipython2",
   "version": "2.7.11"
  }
 },
 "nbformat": 4,
 "nbformat_minor": 0
}
